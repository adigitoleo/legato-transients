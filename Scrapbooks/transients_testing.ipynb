{
 "cells": [
  {
   "cell_type": "code",
   "execution_count": 1,
   "metadata": {
    "collapsed": true
   },
   "outputs": [],
   "source": [
    "import audacity as au\n",
    "import numpy as np\n",
    "import peakutils\n",
    "import scipy.io.wavfile as wf\n",
    "import scipy.signal as sig\n",
    "import matplotlib.pyplot as pl\n",
    "%matplotlib inline"
   ]
  },
  {
   "cell_type": "code",
   "execution_count": 20,
   "metadata": {
    "collapsed": true
   },
   "outputs": [],
   "source": [
    "### Some audacity.py functions\n",
    "\n",
    "# Open an audacuty project\n",
    "auf = au.Aup('characteristic_transitions/flute_characteristic2_061217.aup')\n",
    "# Read annotation labels\n",
    "ann = auf.get_annotation_data()\n",
    "# Get sample rate\n",
    "sr = auf.rate\n",
    "# Number of channels/tracks\n",
    "chno = auf.nchannels\n",
    "# Read data from channel\n",
    "w = auf.get_channel_data(chno)"
   ]
  },
  {
   "cell_type": "code",
   "execution_count": 23,
   "metadata": {},
   "outputs": [
    {
     "name": "stderr",
     "output_type": "stream",
     "text": [
      "C:\\Users\\acoustics\\Anaconda3\\lib\\site-packages\\scipy\\io\\wavfile.py:273: WavFileWarning: Chunk (non-data) not understood, skipping it.\n",
      "  WavFileWarning)\n"
     ]
    }
   ],
   "source": [
    "### Alternative method of analyzing recordings\n",
    "\n",
    "# Use scipy.io.wavefile module\n",
    "# Can only read .wav files -- need to export tracks from audacity project -- more work\n",
    "# Easier for single-track recordings? More support for analysis with other scipy functions? -- research needed\n",
    "# Ability to write to .wav file using scipy.io.wavefile.write()\n",
    "sr, w = wf.read('characteristic_transitions/Audio Track-3.wav')"
   ]
  },
  {
   "cell_type": "markdown",
   "metadata": {},
   "source": [
    "### WIP and partial function/algorithm ideas below"
   ]
  },
  {
   "cell_type": "code",
   "execution_count": null,
   "metadata": {
    "collapsed": true
   },
   "outputs": [],
   "source": [
    "def firstmax(sig):\n",
    "    for i in range(25):\n",
    "        q = sig[i+1]\n",
    "        p = sig[i]\n",
    "        if q < p:\n",
    "            r = sig[i:]\n",
    "            return r\n",
    "            break\n",
    "\n",
    "firstmax(w3)"
   ]
  },
  {
   "cell_type": "code",
   "execution_count": null,
   "metadata": {
    "collapsed": true
   },
   "outputs": [],
   "source": [
    "def envelope(wfm):\n",
    "    mysig = []\n",
    "    cycle = []\n",
    "    mypts = []\n",
    "#     maxima = np.empty(0, int)\n",
    "#     minima = np.empty(0, int)\n",
    "#     b, a = sig.butter(4, 1000/sr, 'high')\n",
    "#     signal = sig.filtfilt(b,a,wfm)\n",
    "    signal = wfm\n",
    "    for i in range(len(signal)):\n",
    "        p = signal[i]\n",
    "        q = signal[i+1]\n",
    "        r = signal[i+2]\n",
    "        if p < q > r:\n",
    "            mysig = signal[i+1:]\n",
    "            mypts.append((q, 'max'))\n",
    "#             maxima = np.append(maxima, q)\n",
    "            break\n",
    "        elif p > q < r:\n",
    "            mysig = signal[i+1:]\n",
    "            mypts.append((q, 'min'))\n",
    "#             minima = np.append(minima, q)\n",
    "            break\n",
    "    \n",
    "    for j in range(len(mysig)):\n",
    "        u = mysig[j]\n",
    "        v = mysig[j+1]\n",
    "        if mypts[0][1] == 'max' and u < v:\n",
    "            cycle = 2*j\n",
    "#             minima = np.append(minima, u)\n",
    "        elif mypts[0][1] == 'min' and u > v:\n",
    "            cycle = 2*j\n",
    "#             maxima = np.append(maxima, u)\n",
    "    \n",
    "    \n",
    "    return mysig"
   ]
  },
  {
   "cell_type": "code",
   "execution_count": null,
   "metadata": {
    "collapsed": true
   },
   "outputs": [],
   "source": [
    "# def keysync(audio, keyRMS, t, sr, opt):\n",
    "#     keyclose = []\n",
    "#     keyopen = []\n",
    "#     closing = []\n",
    "#     opening = []\n",
    "    \n",
    "#     keysig = keyRMS*np.sqrt(2)\n",
    "    \n",
    "#     del_A = np.gradient(keysig)\n",
    "#     del_t = np.gradient(t)\n",
    "#     grad = del_A/del_t\n",
    "    \n",
    "#     b, a = sig.butter(1, 20/sr)\n",
    "#     keygrad = sig.filtfilt(b, a, grad, padtype='constant')\n",
    "    \n",
    "#     maxgrad = sig.argrelmax(keygrad, order=100)[0]\n",
    "#     mingrad = sig.argrelmin(keygrad, order=100)[0]\n",
    "    \n",
    "#     for i in range(len(maxgrad)):\n",
    "#         k = int(maxgrad[i]*len(audio)/len(t))\n",
    "#         if (t[-2206] > k/sr > 1.0):\n",
    "#             closing.append(audio[k-int(0.1*sr):k+int(0.4*sr)])\n",
    "#             keyclose.append(keysig[maxgrad[i]-int(0.1*2206):maxgrad[i]+int(0.4*2206)])\n",
    "            \n",
    "        \n",
    "#     for j in range(len(mingrad)):\n",
    "#         l = int(mingrad[j]*len(audio)/len(t))\n",
    "#         if (t[-2206] > l/sr > 1.0):\n",
    "#             opening.append(audio[l-int(0.25*sr):l+int(0.25*sr)])\n",
    "#             keyopen.append(keysig[mingrad[j]-int(0.25*2206):mingrad[j]+int(0.25*2206)])\n",
    "    \n",
    "#     if opt=='audio':\n",
    "#         C = closing\n",
    "#         O = opening\n",
    "#         return C, O\n",
    "#     if opt=='key':\n",
    "#         C = keyclose\n",
    "#         O = keyopen\n",
    "#         return C, O"
   ]
  }
 ],
 "metadata": {
  "kernelspec": {
   "display_name": "Python 3",
   "language": "python",
   "name": "python3"
  },
  "language_info": {
   "codemirror_mode": {
    "name": "ipython",
    "version": 3
   },
   "file_extension": ".py",
   "mimetype": "text/x-python",
   "name": "python",
   "nbconvert_exporter": "python",
   "pygments_lexer": "ipython3",
   "version": "3.6.3"
  }
 },
 "nbformat": 4,
 "nbformat_minor": 2
}
