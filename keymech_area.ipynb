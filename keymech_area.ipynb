{
 "cells": [
  {
   "cell_type": "markdown",
   "metadata": {},
   "source": [
    "### Effective key transition analysis 1\n",
    "\n",
    "- key position adjusted in increments of 0.25 mm\n",
    "- vernier scale and Helmholtz resonance analysis used for calibration\n",
    "- key manipulated by mechanical device with **flat area** finger\n",
    "- infrared sensor (IR LED + Photoreceptive Transistor) calibrated for key positions"
   ]
  },
  {
   "cell_type": "code",
   "execution_count": 2,
   "metadata": {
    "collapsed": true
   },
   "outputs": [],
   "source": [
    "import numpy as np\n",
    "import matplotlib.pyplot as plt\n",
    "import audacity\n",
    "import TransferFunctions as tf\n",
    "import SoundUtils as sut\n",
    "import scipy.signal as sig\n",
    "\n",
    "%matplotlib notebook"
   ]
  },
  {
   "cell_type": "code",
   "execution_count": 3,
   "metadata": {
    "collapsed": true
   },
   "outputs": [],
   "source": [
    "acquisitions = [\"2201\", \"2301\", \"2301-2\"]\n",
    "runs = 17\n",
    "dfiles = []\n",
    "\n",
    "for acq in acquisitions:\n",
    "    for r in range(runs):\n",
    "        acqfiles = ['ALL_DATA/transfer/b-foot/%s_closing_%d.aup' % (acq, r)]\n",
    "        dfiles.append(acqfiles)\n",
    "        \n",
    "reffile = \"ALL_DATA/transfer/b-foot/2tieclip_reference_sines.aup\""
   ]
  },
  {
   "cell_type": "code",
   "execution_count": 4,
   "metadata": {},
   "outputs": [],
   "source": [
    "def effective_transition(aupfile, freqIR, nfft, ch_noise=0, ch_IR=1, ch_ext=2, ch_int=3):\n",
    "    '''\n",
    "    Main routine for Effective Key Transition analysis.\n",
    "    Uses transfer function analysis to determine when\n",
    "    effective key state changes from open to closed.\n",
    "    \n",
    "    Input\n",
    "    -----\n",
    "    aupfile : audacity project file\n",
    "    ch_noise, ch_IR, ch_int, ch_ext : (optional) channel numbers\n",
    "        for noise, infrared, internal mic and external mic tracks\n",
    "    IRfreq : frequency of infrared signal modulation\n",
    "    nfft : window length for transfer function calculation\n",
    "    \n",
    "    Output\n",
    "    ------\n",
    "    returns a dictionary of the data with the following keys:\n",
    "    'tf' = transfer function (internal/external response)\n",
    "    'coh' = coherence (internal vs external)\n",
    "    'int_mic' = internal response\n",
    "    'ext_mic' = external responce\n",
    "    '''\n",
    "    auf = audacity.Aup(aupfile)\n",
    "    print(aupfile)\n",
    "    sr = auf.rate\n",
    "    rawdata = []\n",
    "    maxlen = 0\n",
    "    for chno in range(auf.nchannels):\n",
    "        rawdata.append(auf.get_channel_data(chno))\n",
    "        maxlen = max(maxlen, len(rawdata[-1]))\n",
    "\n",
    "    data = np.zeros((maxlen, len(rawdata)))\n",
    "    for chno, chdata in enumerate(rawdata):\n",
    "        data[:len(chdata), chno] = chdata\n",
    "        \n",
    "    src = data[:,ch_noise]\n",
    "    int_ = data[:,ch_int]\n",
    "    ext_ = data[:,ch_ext]\n",
    "    IR = data[:,ch_IR]\n",
    "\n",
    "    delay = tf.determineDelay(\n",
    "        src/np.mean(src),int_/np.mean(int_),maxdel=2**15)\n",
    "    print(\"Delay: %d samples\"%delay)\n",
    "    src = np.roll(src, delay)\n",
    "    \n",
    "    tfxy,ff = tf.tfe(int_,ext_,Fs=sr,NFFT=nfft)\n",
    "    ff,coh = sig.coherence(int_,ext_,fs=sr,nperseg=nfft)\n",
    "    datadict = {'tf':tfxy,'coh':coh}\n",
    "    \n",
    "    for chname, chdata in zip([\"int_\", \"ext_\"], [int_, ext_]):\n",
    "        tfxy,ff = tf.tfe(chdata,src,Fs=sr,NFFT=nfft)\n",
    "        datadict['%smic'%(chname)] = tfxy\n",
    "        \n",
    "    datadict[\"ir_RMS\"] = np.sqrt(np.mean((IR-np.mean(IR))**2))\n",
    "    return datadict"
   ]
  },
  {
   "cell_type": "code",
   "execution_count": 5,
   "metadata": {},
   "outputs": [
    {
     "name": "stdout",
     "output_type": "stream",
     "text": [
      "ALL_DATA/transfer/b-foot/2tieclip_reference_sines.aup\n",
      "Delay: 1763 samples\n"
     ]
    }
   ],
   "source": [
    "freqIR = 9820\n",
    "nfft = 1024*2\n",
    "\n",
    "refresult = effective_transition(reffile, freqIR, nfft)"
   ]
  },
  {
   "cell_type": "code",
   "execution_count": 6,
   "metadata": {},
   "outputs": [
    {
     "name": "stdout",
     "output_type": "stream",
     "text": [
      "ALL_DATA/transfer/b-foot/2201_closing_0.aup\n",
      "Delay: 1828 samples\n",
      "ALL_DATA/transfer/b-foot/2201_closing_1.aup\n",
      "Delay: 1828 samples\n",
      "ALL_DATA/transfer/b-foot/2201_closing_2.aup\n",
      "Delay: 7561 samples\n",
      "ALL_DATA/transfer/b-foot/2201_closing_3.aup\n",
      "Delay: 7561 samples\n",
      "ALL_DATA/transfer/b-foot/2201_closing_4.aup\n",
      "Delay: 7561 samples\n",
      "ALL_DATA/transfer/b-foot/2201_closing_5.aup\n",
      "Delay: 7562 samples\n",
      "ALL_DATA/transfer/b-foot/2201_closing_6.aup\n",
      "Delay: 7562 samples\n",
      "ALL_DATA/transfer/b-foot/2201_closing_7.aup\n",
      "Delay: 7562 samples\n",
      "ALL_DATA/transfer/b-foot/2201_closing_8.aup\n",
      "Delay: 7536 samples\n",
      "ALL_DATA/transfer/b-foot/2201_closing_9.aup\n",
      "Delay: 7536 samples\n",
      "ALL_DATA/transfer/b-foot/2201_closing_10.aup\n",
      "Delay: 7537 samples\n",
      "ALL_DATA/transfer/b-foot/2201_closing_11.aup\n",
      "Delay: 1775 samples\n",
      "ALL_DATA/transfer/b-foot/2201_closing_12.aup\n",
      "Delay: 2077 samples\n",
      "ALL_DATA/transfer/b-foot/2201_closing_13.aup\n",
      "Delay: 2076 samples\n",
      "ALL_DATA/transfer/b-foot/2201_closing_14.aup\n",
      "Delay: 2076 samples\n",
      "ALL_DATA/transfer/b-foot/2201_closing_15.aup\n",
      "Delay: 7809 samples\n",
      "ALL_DATA/transfer/b-foot/2201_closing_16.aup\n",
      "Delay: 7809 samples\n",
      "ALL_DATA/transfer/b-foot/2301_closing_0.aup\n",
      "Delay: 1828 samples\n",
      "ALL_DATA/transfer/b-foot/2301_closing_1.aup\n",
      "Delay: 1785 samples\n",
      "ALL_DATA/transfer/b-foot/2301_closing_2.aup\n",
      "Delay: 1828 samples\n",
      "ALL_DATA/transfer/b-foot/2301_closing_3.aup\n",
      "Delay: 1828 samples\n",
      "ALL_DATA/transfer/b-foot/2301_closing_4.aup\n",
      "Delay: 1828 samples\n",
      "ALL_DATA/transfer/b-foot/2301_closing_5.aup\n",
      "Delay: 1828 samples\n",
      "ALL_DATA/transfer/b-foot/2301_closing_6.aup\n",
      "Delay: 1829 samples\n",
      "ALL_DATA/transfer/b-foot/2301_closing_7.aup\n",
      "Delay: 1829 samples\n",
      "ALL_DATA/transfer/b-foot/2301_closing_8.aup\n",
      "Delay: 1829 samples\n",
      "ALL_DATA/transfer/b-foot/2301_closing_9.aup\n",
      "Delay: 1904 samples\n",
      "ALL_DATA/transfer/b-foot/2301_closing_10.aup\n",
      "Delay: 1803 samples\n",
      "ALL_DATA/transfer/b-foot/2301_closing_11.aup\n",
      "Delay: 1804 samples\n",
      "ALL_DATA/transfer/b-foot/2301_closing_12.aup\n",
      "Delay: 1775 samples\n",
      "ALL_DATA/transfer/b-foot/2301_closing_13.aup\n",
      "Delay: 2076 samples\n",
      "ALL_DATA/transfer/b-foot/2301_closing_14.aup\n",
      "Delay: 2076 samples\n",
      "ALL_DATA/transfer/b-foot/2301_closing_15.aup\n",
      "Delay: 2076 samples\n",
      "ALL_DATA/transfer/b-foot/2301_closing_16.aup\n",
      "Delay: 1775 samples\n",
      "ALL_DATA/transfer/b-foot/2301-2_closing_0.aup\n",
      "Delay: 1785 samples\n",
      "ALL_DATA/transfer/b-foot/2301-2_closing_1.aup\n",
      "Delay: 1785 samples\n",
      "ALL_DATA/transfer/b-foot/2301-2_closing_2.aup\n",
      "Delay: 1828 samples\n",
      "ALL_DATA/transfer/b-foot/2301-2_closing_3.aup\n",
      "Delay: 1828 samples\n",
      "ALL_DATA/transfer/b-foot/2301-2_closing_4.aup\n",
      "Delay: 1828 samples\n",
      "ALL_DATA/transfer/b-foot/2301-2_closing_5.aup\n",
      "Delay: 1828 samples\n",
      "ALL_DATA/transfer/b-foot/2301-2_closing_6.aup\n",
      "Delay: 1829 samples\n",
      "ALL_DATA/transfer/b-foot/2301-2_closing_7.aup\n",
      "Delay: 1829 samples\n",
      "ALL_DATA/transfer/b-foot/2301-2_closing_8.aup\n",
      "Delay: 1829 samples\n",
      "ALL_DATA/transfer/b-foot/2301-2_closing_9.aup\n",
      "Delay: 1830 samples\n",
      "ALL_DATA/transfer/b-foot/2301-2_closing_10.aup\n",
      "Delay: 1803 samples\n",
      "ALL_DATA/transfer/b-foot/2301-2_closing_11.aup\n",
      "Delay: 1804 samples\n",
      "ALL_DATA/transfer/b-foot/2301-2_closing_12.aup\n",
      "Delay: 1775 samples\n",
      "ALL_DATA/transfer/b-foot/2301-2_closing_13.aup\n",
      "Delay: 2076 samples\n",
      "ALL_DATA/transfer/b-foot/2301-2_closing_14.aup\n",
      "Delay: 2106 samples\n",
      "ALL_DATA/transfer/b-foot/2301-2_closing_15.aup\n",
      "Delay: 2075 samples\n",
      "ALL_DATA/transfer/b-foot/2301-2_closing_16.aup\n",
      "Delay: 2076 samples\n"
     ]
    }
   ],
   "source": [
    "results = np.empty((len(acquisitions), runs))\n",
    "for acqfiles in dfiles:\n",
    "    for file in acqfiles:\n",
    "        filedata = effective_transition(file, freqIR, nfft)\n",
    "        results = np.append(results, [filedata])"
   ]
  },
  {
   "cell_type": "code",
   "execution_count": 21,
   "metadata": {},
   "outputs": [
    {
     "name": "stdout",
     "output_type": "stream",
     "text": [
      "6.94446804248514e-310\n"
     ]
    }
   ],
   "source": [
    "print(results[0])\n",
    "\n",
    "# plt.figure()\n",
    "# for acqresults in results:\n",
    "#     print(acqresults)\n",
    "#     plt.plot(np.arange(17), [result['ir_RMS'] for result in acqresults], 'o-')"
   ]
  },
  {
   "cell_type": "code",
   "execution_count": null,
   "metadata": {
    "collapsed": true
   },
   "outputs": [],
   "source": []
  }
 ],
 "metadata": {
  "kernelspec": {
   "display_name": "Python 3",
   "language": "python",
   "name": "python3"
  },
  "language_info": {
   "codemirror_mode": {
    "name": "ipython",
    "version": 3
   },
   "file_extension": ".py",
   "mimetype": "text/x-python",
   "name": "python",
   "nbconvert_exporter": "python",
   "pygments_lexer": "ipython3",
   "version": "3.6.3"
  }
 },
 "nbformat": 4,
 "nbformat_minor": 2
}
