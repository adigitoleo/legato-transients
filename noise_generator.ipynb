{
 "cells": [
  {
   "cell_type": "code",
   "execution_count": 172,
   "metadata": {
    "collapsed": true
   },
   "outputs": [],
   "source": [
    "import warnings\n",
    "import numpy as np\n",
    "import audacity as au\n",
    "import matplotlib.pyplot as pl\n",
    "\n",
    "%matplotlib notebook"
   ]
  },
  {
   "cell_type": "code",
   "execution_count": 173,
   "metadata": {},
   "outputs": [],
   "source": [
    "### Function definitions\n",
    "def spectrumToWaveform(spectrum, numPoints):\n",
    "    '''Calculates the waveform for a given spectrum.\n",
    "    The ifft is performed on the y-axis of the spectrum'''\n",
    "    \n",
    "    harmHi = int(np.floor(numPoints/2))\n",
    "    # throw out any frequency components that will not contribute\n",
    "    if len(spectrum) > (harmHi + 1):\n",
    "        spectrum = spectrum[ : harmHi + 1]\n",
    "        warnings.warn('Some spectrum points have been thrown out!')\n",
    "    # fill the spectrum out to the Nyquist limit\n",
    "    if len(spectrum) < (harmHi + 1):\n",
    "        spectrum.append([[0] for row in range(harmHi+2-len(spectrum))])\n",
    "\n",
    "    # fix up the dc component\n",
    "    spectrum = [[elem*2] for elem in row for row in spectrum]\n",
    "        \n",
    "    # un-normalise the points\n",
    "    spectrum = [[elem*numPoints/2] for elem in row for row in spectrum]\n",
    "    # add the extra points\n",
    "    newPoints = spectrum[2 : int(np.ceil(numPoints / 2))][:]\n",
    "    newPoints = [[np.conj(elem)] for elem in row for row in spectrum]\n",
    "    newPoints = newPoints[::-1]\n",
    "    spectrum.extend(newPoints)\n",
    "#     spectrum = np.array(spectrum)\n",
    "#     need to flatten to 1 dimension\n",
    "    print(spectrum)\n",
    "    # take the ifft\n",
    "    waveform = np.fft.ifft(spectrum, numPoints)\n",
    "    waveform = np.real(waveform)"
   ]
  },
  {
   "cell_type": "code",
   "execution_count": 174,
   "metadata": {
    "collapsed": true
   },
   "outputs": [],
   "source": [
    "### Input parameters\n",
    "samplingFreq = 44100\n",
    "bitDepth = 32\n",
    "numPoints = 2**13\n",
    "freqLo = 200\n",
    "freqHi = 4000\n",
    "numCycles = 32"
   ]
  },
  {
   "cell_type": "code",
   "execution_count": 175,
   "metadata": {},
   "outputs": [],
   "source": [
    "### Initial harmonics\n",
    "freqIncr = samplingFreq/numPoints\n",
    "freqNyquist = samplingFreq/2\n",
    "harmLo = math.floor(freqLo/freqIncr)\n",
    "harmHi = math.ceil(freqHi/freqIncr)\n",
    "freqLo = harmLo*freqIncr\n",
    "freqHi = harmHi*freqIncr"
   ]
  },
  {
   "cell_type": "code",
   "execution_count": 176,
   "metadata": {},
   "outputs": [
    {
     "name": "stdout",
     "output_type": "stream",
     "text": [
      "[ 6111232.  6111232.  6111232. ...,  6111232.  6111232.  6111232.]\n"
     ]
    }
   ],
   "source": [
    "### Generating output\n",
    "spectrum = [0 for i in range(harmHi+1)]\n",
    "spectrum[harmLo+1 : ] = [1 for i in range(len(spectrum)-harmLo+1)]\n",
    "waveform = spectrumToWaveform(spectrum, numPoints)\n",
    "# spectrum = [[elem*2] for elem in row for row in spectrum]\n",
    "# spectrum = [[elem*numPoints/2] for elem in row for row in spectrum]\n",
    "# newPoints = spectrum[2: math.ceil(numPoints / 2)][:]\n",
    "# newPoints = [[np.conj(elem)] for elem in row for row in spectrum]\n",
    "# spectrum.append(newPoints)\n",
    "# spectrum"
   ]
  },
  {
   "cell_type": "code",
   "execution_count": null,
   "metadata": {
    "collapsed": true
   },
   "outputs": [],
   "source": []
  }
 ],
 "metadata": {
  "kernelspec": {
   "display_name": "Python 3",
   "language": "python",
   "name": "python3"
  },
  "language_info": {
   "codemirror_mode": {
    "name": "ipython",
    "version": 3
   },
   "file_extension": ".py",
   "mimetype": "text/x-python",
   "name": "python",
   "nbconvert_exporter": "python",
   "pygments_lexer": "ipython3",
   "version": "3.6.3"
  }
 },
 "nbformat": 4,
 "nbformat_minor": 2
}
